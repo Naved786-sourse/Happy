{
  "nbformat": 4,
  "nbformat_minor": 0,
  "metadata": {
    "colab": {
      "provenance": []
    },
    "kernelspec": {
      "name": "python3",
      "display_name": "Python 3"
    },
    "language_info": {
      "name": "python"
    }
  },
  "cells": [
    {
      "cell_type": "code",
      "execution_count": null,
      "metadata": {
        "id": "k2m_bNa2vstr"
      },
      "outputs": [],
      "source": [
        "import tensorflow as tf"
      ]
    },
    {
      "cell_type": "code",
      "source": [
        "fmnist = tf.keras.datasets.fashion_mnist"
      ],
      "metadata": {
        "id": "dVpumL_7Z2ss"
      },
      "execution_count": null,
      "outputs": []
    },
    {
      "cell_type": "code",
      "source": [
        "# Load MNIST handwritten digit data\n",
        "(X_train, y_train), (X_test, y_test) = fmnist.load_data()"
      ],
      "metadata": {
        "colab": {
          "base_uri": "https://localhost:8080/"
        },
        "id": "rHka8wEaZ9I4",
        "outputId": "06fd12ef-771d-4a02-beed-cdaf1f7b4d43"
      },
      "execution_count": null,
      "outputs": [
        {
          "output_type": "stream",
          "name": "stdout",
          "text": [
            "Downloading data from https://storage.googleapis.com/tensorflow/tf-keras-datasets/train-labels-idx1-ubyte.gz\n",
            "29515/29515 [==============================] - 0s 0us/step\n",
            "Downloading data from https://storage.googleapis.com/tensorflow/tf-keras-datasets/train-images-idx3-ubyte.gz\n",
            "26421880/26421880 [==============================] - 0s 0us/step\n",
            "Downloading data from https://storage.googleapis.com/tensorflow/tf-keras-datasets/t10k-labels-idx1-ubyte.gz\n",
            "5148/5148 [==============================] - 0s 0us/step\n",
            "Downloading data from https://storage.googleapis.com/tensorflow/tf-keras-datasets/t10k-images-idx3-ubyte.gz\n",
            "4422102/4422102 [==============================] - 0s 0us/step\n"
          ]
        }
      ]
    },
    {
      "cell_type": "code",
      "source": [
        "print(X_train.shape)\n",
        "print(y_train.shape)\n",
        "print(X_test.shape)\n",
        "print(y_test.shape)"
      ],
      "metadata": {
        "colab": {
          "base_uri": "https://localhost:8080/"
        },
        "id": "0SN3SzKkES5E",
        "outputId": "43e579da-98bc-4767-980e-d6aa22bce43e"
      },
      "execution_count": null,
      "outputs": [
        {
          "output_type": "stream",
          "name": "stdout",
          "text": [
            "(60000, 28, 28)\n",
            "(60000,)\n",
            "(10000, 28, 28)\n",
            "(10000,)\n"
          ]
        }
      ]
    },
    {
      "cell_type": "code",
      "source": [
        "import numpy as np\n",
        "np.set_printoptions(linewidth=200)\n",
        "#linewidth =  The number of characters per line for the purpose of inserting line breaks (default 75)\n",
        "import matplotlib.pyplot as plt\n",
        "plt.imshow(X_train[3])"
      ],
      "metadata": {
        "colab": {
          "base_uri": "https://localhost:8080/",
          "height": 282
        },
        "id": "XzdGCOdfaIeA",
        "outputId": "6c9f7c72-ca57-4050-9af4-32352a951ad0"
      },
      "execution_count": null,
      "outputs": [
        {
          "output_type": "execute_result",
          "data": {
            "text/plain": [
              "<matplotlib.image.AxesImage at 0x7f099b7d3550>"
            ]
          },
          "metadata": {},
          "execution_count": 5
        },
        {
          "output_type": "display_data",
          "data": {
            "text/plain": [
              "<Figure size 432x288 with 1 Axes>"
            ],
            "image/png": "[encoded data removed]"
          },
          "metadata": {
            "needs_background": "light"
          }
        }
      ]
    },
    {
      "cell_type": "code",
      "source": [
        "print(X_train[3])"
      ],
      "metadata": {
        "colab": {
          "base_uri": "https://localhost:8080/"
        },
        "id": "5O1ultVMaQir",
        "outputId": "3a794faf-77cd-4aba-c259-3d55682ca14e"
      },
      "execution_count": null,
      "outputs": [
        {
          "output_type": "stream",
          "name": "stdout",
          "text": [
            "[[  0   0   0   0   0   0   0   0  33  96 175 156  64  14  54 137 204 194 102   0   0   0   0   0   0   0   0   0]\n",
            " [  0   0   0   0   0   0  73 186 177 183 175 188 232 255 223 219 194 179 186 213 146   0   0   0   0   0   0   0]\n",
            " [  0   0   0   0   0  35 163 140 150 152 150 146 175 175 173 171 156 152 148 129 156 140   0   0   0   0   0   0]\n",
            " [  0   0   0   0   0 150 142 140 152 160 156 146 142 127 135 133 140 140 137 133 125 169  75   0   0   0   0   0]\n",
            " [  0   0   0   0   0  54 167 146 129 142 137 137 131 148 148 133 131 131 131 125 140 140   0   0   0   0   0   0]\n",
            " [  0   0   0   0   0   0 110 188 133 146 152 133 125 127 119 129 133 119 140 131 150  14   0   0   0   0   0   0]\n",
            " [  0   0   0   0   0   0   0 221 158 137 135 123 110 110 114 108 112 117 127 142  77   0   0   0   0   0   0   0]\n",
            " [  0   0   0   0   0   4   0  25 158 137 125 119 119 110 117 117 110 119 127 144   0   0   0   0   0   0   0   0]\n",
            " [  0   0   0   0   0   0   0   0 123 156 129 112 110 102 112 100 121 117 129 114   0   0   0   0   0   0   0   0]\n",
            " [  0   0   0   0   0   0   0   0 125 169 127 119 106 108 104  94 121 114 129  91   0   0   0   0   0   0   0   0]\n",
            " [  0   0   0   0   0   0   2   0  98 171 129 112 104 114 106 102 112 104 133  64   0   4   0   0   0   0   0   0]\n",
            " [  0   0   0   0   0   0   2   0  66 173 135 129  98 100 119 102 108  98 135  60   0   4   0   0   0   0   0   0]\n",
            " [  0   0   0   0   0   0   2   0  56 171 135 127 100 108 117  85 106 110 135  66   0   4   0   0   0   0   0   0]\n",
            " [  0   0   0   0   0   0   0   0  52 150 129 110 100  91 102  94  83 104 123  66   0   4   0   0   0   0   0   0]\n",
            " [  0   0   0   0   0   0   2   0  66 167 140 148 148 127 137 152 146 146 148  96   0   0   0   0   0   0   0   0]\n",
            " [  0   0   0   0   0   0   0   0  45 123  94 104  96 119 121 106  98 112  87 114   0   0   0   0   0   0   0   0]\n",
            " [  0   0   0   0   0   0   0   0 106  89  58  50  37  50  66  56  50  75  75 137  22   0   2   0   0   0   0   0]\n",
            " [  0   0   0   0   0   2   0  29 148 114 106 125  89 100 133 117 131 131 131 125 112   0   0   0   0   0   0   0]\n",
            " [  0   0   0   0   0   0   0 100 106 114  91 137  62 102 131  89 135 112 131 108 135  37   0   0   0   0   0   0]\n",
            " [  0   0   0   0   0   0   0 146 100 108  98 144  62 106 131  87 133 104 160 117 121  68   0   0   0   0   0   0]\n",
            " [  0   0   0   0   0   0  33 121 108  96 100 140  71 106 127  85 140 104 150 140 114  89   0   0   0   0   0   0]\n",
            " [  0   0   0   0   0   0  62 119 112 102 110 137  75 106 144  81 144 108 117 154 117 104  18   0   0   0   0   0]\n",
            " [  0   0   0   0   0   0  66 121 102 112 117 131  73 104 156  77 137 135  83 179 129 121  35   0   0   0   0   0]\n",
            " [  0   0   0   0   0   0  85 127  81 125 133 119  79 100 169  83 129 175  60 163 135 146  39   0   0   0   0   0]\n",
            " [  0   0   0   0   0   0 106 129  62 140 144 108  85  83 158  85 129 175  48 146 133 135  64   0   0   0   0   0]\n",
            " [  0   0   0   0   0   0 117 119  79 140 152 102  89 110 137  96 150 196  83 144 135 133  77   0   0   0   0   0]\n",
            " [  0   0   0   0   0   0 154 121  87 140 154 112  94  52 142 100  83 152  85 160 133 100  12   0   0   0   0   0]\n",
            " [  0   0   0   0   0   0   4   0   2   0  35   4  33   0   0   0   0   0   0   0   0   0   0   0   0   0   0   0]]\n"
          ]
        }
      ]
    },
    {
      "cell_type": "code",
      "source": [
        "# Normalize the data\n",
        "# 28*28 = 256\n",
        "X_train = X_train/255\n",
        "X_test = X_test/255"
      ],
      "metadata": {
        "id": "9gtVAJ9-acmS"
      },
      "execution_count": null,
      "outputs": []
    },
    {
      "cell_type": "code",
      "source": [
        "print(X_train[3])"
      ],
      "metadata": {
        "colab": {
          "base_uri": "https://localhost:8080/"
        },
        "id": "7e_Kl-fqbqeF",
        "outputId": "d10df29a-7dd0-4c6e-959a-ac59ea7bd244"
      },
      "execution_count": null,
      "outputs": [
        {
          "output_type": "stream",
          "name": "stdout",
          "text": [
            "[[0.         0.         0.         0.         0.         0.         0.         0.         0.12941176 0.37647059 0.68627451 0.61176471 0.25098039 0.05490196 0.21176471 0.5372549  0.8\n",
            "  0.76078431 0.4        0.         0.         0.         0.         0.         0.         0.         0.         0.        ]\n",
            " [0.         0.         0.         0.         0.         0.         0.28627451 0.72941176 0.69411765 0.71764706 0.68627451 0.7372549  0.90980392 1.         0.8745098  0.85882353 0.76078431\n",
            "  0.70196078 0.72941176 0.83529412 0.57254902 0.         0.         0.         0.         0.         0.         0.        ]\n",
            " [0.         0.         0.         0.         0.         0.1372549  0.63921569 0.54901961 0.58823529 0.59607843 0.58823529 0.57254902 0.68627451 0.68627451 0.67843137 0.67058824 0.61176471\n",
            "  0.59607843 0.58039216 0.50588235 0.61176471 0.54901961 0.         0.         0.         0.         0.         0.        ]\n",
            " [0.         0.         0.         0.         0.         0.58823529 0.55686275 0.54901961 0.59607843 0.62745098 0.61176471 0.57254902 0.55686275 0.49803922 0.52941176 0.52156863 0.54901961\n",
            "  0.54901961 0.5372549  0.52156863 0.49019608 0.6627451  0.29411765 0.         0.         0.         0.         0.        ]\n",
            " [0.         0.         0.         0.         0.         0.21176471 0.65490196 0.57254902 0.50588235 0.55686275 0.5372549  0.5372549  0.51372549 0.58039216 0.58039216 0.52156863 0.51372549\n",
            "  0.51372549 0.51372549 0.49019608 0.54901961 0.54901961 0.         0.         0.         0.         0.         0.        ]\n",
            " [0.         0.         0.         0.         0.         0.         0.43137255 0.7372549  0.52156863 0.57254902 0.59607843 0.52156863 0.49019608 0.49803922 0.46666667 0.50588235 0.52156863\n",
            "  0.46666667 0.54901961 0.51372549 0.58823529 0.05490196 0.         0.         0.         0.         0.         0.        ]\n",
            " [0.         0.         0.         0.         0.         0.         0.         0.86666667 0.61960784 0.5372549  0.52941176 0.48235294 0.43137255 0.43137255 0.44705882 0.42352941 0.43921569\n",
            "  0.45882353 0.49803922 0.55686275 0.30196078 0.         0.         0.         0.         0.         0.         0.        ]\n",
            " [0.         0.         0.         0.         0.         0.01568627 0.         0.09803922 0.61960784 0.5372549  0.49019608 0.46666667 0.46666667 0.43137255 0.45882353 0.45882353 0.43137255\n",
            "  0.46666667 0.49803922 0.56470588 0.         0.         0.         0.         0.         0.         0.         0.        ]\n",
            " [0.         0.         0.         0.         0.         0.         0.         0.         0.48235294 0.61176471 0.50588235 0.43921569 0.43137255 0.4        0.43921569 0.39215686 0.4745098\n",
            "  0.45882353 0.50588235 0.44705882 0.         0.         0.         0.         0.         0.         0.         0.        ]\n",
            " [0.         0.         0.         0.         0.         0.         0.         0.         0.49019608 0.6627451  0.49803922 0.46666667 0.41568627 0.42352941 0.40784314 0.36862745 0.4745098\n",
            "  0.44705882 0.50588235 0.35686275 0.         0.         0.         0.         0.         0.         0.         0.        ]\n",
            " [0.         0.         0.         0.         0.         0.         0.00784314 0.         0.38431373 0.67058824 0.50588235 0.43921569 0.40784314 0.44705882 0.41568627 0.4        0.43921569\n",
            "  0.40784314 0.52156863 0.25098039 0.         0.01568627 0.         0.         0.         0.         0.         0.        ]\n",
            " [0.         0.         0.         0.         0.         0.         0.00784314 0.         0.25882353 0.67843137 0.52941176 0.50588235 0.38431373 0.39215686 0.46666667 0.4        0.42352941\n",
            "  0.38431373 0.52941176 0.23529412 0.         0.01568627 0.         0.         0.         0.         0.         0.        ]\n",
            " [0.         0.         0.         0.         0.         0.         0.00784314 0.         0.21960784 0.67058824 0.52941176 0.49803922 0.39215686 0.42352941 0.45882353 0.33333333 0.41568627\n",
            "  0.43137255 0.52941176 0.25882353 0.         0.01568627 0.         0.         0.         0.         0.         0.        ]\n",
            " [0.         0.         0.         0.         0.         0.         0.         0.         0.20392157 0.58823529 0.50588235 0.43137255 0.39215686 0.35686275 0.4        0.36862745 0.3254902\n",
            "  0.40784314 0.48235294 0.25882353 0.         0.01568627 0.         0.         0.         0.         0.         0.        ]\n",
            " [0.         0.         0.         0.         0.         0.         0.00784314 0.         0.25882353 0.65490196 0.54901961 0.58039216 0.58039216 0.49803922 0.5372549  0.59607843 0.57254902\n",
            "  0.57254902 0.58039216 0.37647059 0.         0.         0.         0.         0.         0.         0.         0.        ]\n",
            " [0.         0.         0.         0.         0.         0.         0.         0.         0.17647059 0.48235294 0.36862745 0.40784314 0.37647059 0.46666667 0.4745098  0.41568627 0.38431373\n",
            "  0.43921569 0.34117647 0.44705882 0.         0.         0.         0.         0.         0.         0.         0.        ]\n",
            " [0.         0.         0.         0.         0.         0.         0.         0.         0.41568627 0.34901961 0.22745098 0.19607843 0.14509804 0.19607843 0.25882353 0.21960784 0.19607843\n",
            "  0.29411765 0.29411765 0.5372549  0.08627451 0.         0.00784314 0.         0.         0.         0.         0.        ]\n",
            " [0.         0.         0.         0.         0.         0.00784314 0.         0.11372549 0.58039216 0.44705882 0.41568627 0.49019608 0.34901961 0.39215686 0.52156863 0.45882353 0.51372549\n",
            "  0.51372549 0.51372549 0.49019608 0.43921569 0.         0.         0.         0.         0.         0.         0.        ]\n",
            " [0.         0.         0.         0.         0.         0.         0.         0.39215686 0.41568627 0.44705882 0.35686275 0.5372549  0.24313725 0.4        0.51372549 0.34901961 0.52941176\n",
            "  0.43921569 0.51372549 0.42352941 0.52941176 0.14509804 0.         0.         0.         0.         0.         0.        ]\n",
            " [0.         0.         0.         0.         0.         0.         0.         0.57254902 0.39215686 0.42352941 0.38431373 0.56470588 0.24313725 0.41568627 0.51372549 0.34117647 0.52156863\n",
            "  0.40784314 0.62745098 0.45882353 0.4745098  0.26666667 0.         0.         0.         0.         0.         0.        ]\n",
            " [0.         0.         0.         0.         0.         0.         0.12941176 0.4745098  0.42352941 0.37647059 0.39215686 0.54901961 0.27843137 0.41568627 0.49803922 0.33333333 0.54901961\n",
            "  0.40784314 0.58823529 0.54901961 0.44705882 0.34901961 0.         0.         0.         0.         0.         0.        ]\n",
            " [0.         0.         0.         0.         0.         0.         0.24313725 0.46666667 0.43921569 0.4        0.43137255 0.5372549  0.29411765 0.41568627 0.56470588 0.31764706 0.56470588\n",
            "  0.42352941 0.45882353 0.60392157 0.45882353 0.40784314 0.07058824 0.         0.         0.         0.         0.        ]\n",
            " [0.         0.         0.         0.         0.         0.         0.25882353 0.4745098  0.4        0.43921569 0.45882353 0.51372549 0.28627451 0.40784314 0.61176471 0.30196078 0.5372549\n",
            "  0.52941176 0.3254902  0.70196078 0.50588235 0.4745098  0.1372549  0.         0.         0.         0.         0.        ]\n",
            " [0.         0.         0.         0.         0.         0.         0.33333333 0.49803922 0.31764706 0.49019608 0.52156863 0.46666667 0.30980392 0.39215686 0.6627451  0.3254902  0.50588235\n",
            "  0.68627451 0.23529412 0.63921569 0.52941176 0.57254902 0.15294118 0.         0.         0.         0.         0.        ]\n",
            " [0.         0.         0.         0.         0.         0.         0.41568627 0.50588235 0.24313725 0.54901961 0.56470588 0.42352941 0.33333333 0.3254902  0.61960784 0.33333333 0.50588235\n",
            "  0.68627451 0.18823529 0.57254902 0.52156863 0.52941176 0.25098039 0.         0.         0.         0.         0.        ]\n",
            " [0.         0.         0.         0.         0.         0.         0.45882353 0.46666667 0.30980392 0.54901961 0.59607843 0.4        0.34901961 0.43137255 0.5372549  0.37647059 0.58823529\n",
            "  0.76862745 0.3254902  0.56470588 0.52941176 0.52156863 0.30196078 0.         0.         0.         0.         0.        ]\n",
            " [0.         0.         0.         0.         0.         0.         0.60392157 0.4745098  0.34117647 0.54901961 0.60392157 0.43921569 0.36862745 0.20392157 0.55686275 0.39215686 0.3254902\n",
            "  0.59607843 0.33333333 0.62745098 0.52156863 0.39215686 0.04705882 0.         0.         0.         0.         0.        ]\n",
            " [0.         0.         0.         0.         0.         0.         0.01568627 0.         0.00784314 0.         0.1372549  0.01568627 0.12941176 0.         0.         0.         0.\n",
            "  0.         0.         0.         0.         0.         0.         0.         0.         0.         0.         0.        ]]\n"
          ]
        }
      ]
    },
    {
      "cell_type": "code",
      "source": [
        "from keras.utils import to_categorical\n",
        "to_categorical(3, num_classes=10)"
      ],
      "metadata": {
        "colab": {
          "base_uri": "https://localhost:8080/"
        },
        "id": "lrGOuIvuHoGU",
        "outputId": "f0779ce1-9d59-49a7-a1a6-4374dae36d2f"
      },
      "execution_count": null,
      "outputs": [
        {
          "output_type": "execute_result",
          "data": {
            "text/plain": [
              "array([0., 0., 0., 1., 0., 0., 0., 0., 0., 0.], dtype=float32)"
            ]
          },
          "metadata": {},
          "execution_count": 9
        }
      ]
    },
    {
      "cell_type": "code",
      "source": [
        "# Convert y_train into one-hot format\n",
        "temp = []\n",
        "for i in range(len(y_train)):\n",
        "    temp.append(to_categorical(y_train[i], num_classes=10))\n",
        "y_train = np.array(temp)\n",
        "# Convert y_test into one-hot format\n",
        "temp = []\n",
        "for i in range(len(y_test)):    \n",
        "    temp.append(to_categorical(y_test[i], num_classes=10))\n",
        "y_test = np.array(temp)"
      ],
      "metadata": {
        "id": "Pg2zIY7XHfXe"
      },
      "execution_count": null,
      "outputs": []
    },
    {
      "cell_type": "code",
      "source": [
        "print(y_train.shape)\n",
        "print(y_test.shape)"
      ],
      "metadata": {
        "colab": {
          "base_uri": "https://localhost:8080/"
        },
        "id": "WWk4ZspsGt7L",
        "outputId": "9bf98f77-bc8b-46f0-9fdb-bdb477b1b4fb"
      },
      "execution_count": null,
      "outputs": [
        {
          "output_type": "stream",
          "name": "stdout",
          "text": [
            "(60000, 10)\n",
            "(10000, 10)\n"
          ]
        }
      ]
    },
    {
      "cell_type": "code",
      "source": [
        "# 1) Define a model - layers\n",
        "from keras.models import Sequential\n",
        "model = Sequential()\n",
        "from keras.layers import Dense, Flatten\n",
        "model.add(Flatten(input_shape=(28,28)))\n",
        "model.add(Dense(5, activation='sigmoid'))\n",
        "model.add(Dense(10, activation='softmax'))\n",
        "model.summary()"
      ],
      "metadata": {
        "colab": {
          "base_uri": "https://localhost:8080/"
        },
        "id": "RyT8v4Kwaj5A",
        "outputId": "f1b60ce1-c85f-4898-91a6-a98cd9eb4ef9"
      },
      "execution_count": null,
      "outputs": [
        {
          "output_type": "stream",
          "name": "stdout",
          "text": [
            "Model: \"sequential\"\n",
            "_________________________________________________________________\n",
            " Layer (type)                Output Shape              Param #   \n",
            "=================================================================\n",
            " flatten (Flatten)           (None, 784)               0         \n",
            "                                                                 \n",
            " dense (Dense)               (None, 5)                 3925      \n",
            "                                                                 \n",
            " dense_1 (Dense)             (None, 10)                60        \n",
            "                                                                 \n",
            "=================================================================\n",
            "Total params: 3,985\n",
            "Trainable params: 3,985\n",
            "Non-trainable params: 0\n",
            "_________________________________________________________________\n"
          ]
        }
      ]
    },
    {
      "cell_type": "code",
      "source": [
        "# 2) Compile the model\n",
        "model.compile(loss='categorical_crossentropy', optimizer='adam',metrics=['accuracy'])"
      ],
      "metadata": {
        "id": "KOtvZj8GaoNm"
      },
      "execution_count": null,
      "outputs": []
    },
    {
      "cell_type": "code",
      "source": [
        "history = model.fit(X_train, y_train, epochs=5, validation_data=(X_test,y_test))"
      ],
      "metadata": {
        "colab": {
          "base_uri": "https://localhost:8080/"
        },
        "id": "CwJ_YYAkau9-",
        "outputId": "e259b4d4-7de5-44af-b47c-55d58380443d"
      },
      "execution_count": null,
      "outputs": [
        {
          "output_type": "stream",
          "name": "stdout",
          "text": [
            "Epoch 1/5\n",
            "1875/1875 [==============================] - 6s 3ms/step - loss: 1.4266 - accuracy: 0.6166 - val_loss: 1.0109 - val_accuracy: 0.7201\n",
            "Epoch 2/5\n",
            "1875/1875 [==============================] - 7s 4ms/step - loss: 0.8436 - accuracy: 0.7553 - val_loss: 0.7552 - val_accuracy: 0.7650\n",
            "Epoch 3/5\n",
            "1875/1875 [==============================] - 7s 4ms/step - loss: 0.6832 - accuracy: 0.7804 - val_loss: 0.6576 - val_accuracy: 0.7766\n",
            "Epoch 4/5\n",
            "1875/1875 [==============================] - 6s 3ms/step - loss: 0.6111 - accuracy: 0.7959 - val_loss: 0.6134 - val_accuracy: 0.7852\n",
            "Epoch 5/5\n",
            "1875/1875 [==============================] - 4s 2ms/step - loss: 0.5704 - accuracy: 0.8062 - val_loss: 0.5905 - val_accuracy: 0.7909\n"
          ]
        }
      ]
    },
    {
      "cell_type": "code",
      "source": [
        "# 4) Prediction\n",
        "Classification = model.predict(X_test)"
      ],
      "metadata": {
        "colab": {
          "base_uri": "https://localhost:8080/"
        },
        "id": "vxdEYAfea7vN",
        "outputId": "0c569818-8f59-416c-e213-0f8604cb11d3"
      },
      "execution_count": null,
      "outputs": [
        {
          "output_type": "stream",
          "name": "stdout",
          "text": [
            "313/313 [==============================] - 0s 1ms/step\n"
          ]
        }
      ]
    },
    {
      "cell_type": "code",
      "source": [
        "Classification"
      ],
      "metadata": {
        "colab": {
          "base_uri": "https://localhost:8080/"
        },
        "id": "wKPeCXGXbBDC",
        "outputId": "936b3b7c-7ef0-4314-f53e-7076435ebedc"
      },
      "execution_count": null,
      "outputs": [
        {
          "output_type": "execute_result",
          "data": {
            "text/plain": [
              "array([[3.3889493e-04, 3.5577021e-03, 6.3638709e-04, ..., 1.0541321e-01, 2.9565962e-03, 7.4850696e-01],\n",
              "       [3.2388172e-03, 1.3350612e-04, 6.7452812e-01, ..., 2.2459067e-06, 2.5988132e-02, 7.2905395e-06],\n",
              "       [3.8119769e-04, 9.4107366e-01, 1.6175659e-04, ..., 7.0008886e-04, 2.7163366e-03, 1.7160827e-02],\n",
              "       ...,\n",
              "       [6.6155130e-01, 4.5647142e-03, 2.2028977e-02, ..., 9.7620236e-03, 1.5359716e-02, 2.5317163e-04],\n",
              "       [2.6951404e-04, 9.4384664e-01, 1.5898827e-04, ..., 4.9154437e-04, 2.3099270e-03, 1.7519236e-02],\n",
              "       [1.0643709e-03, 7.1247021e-05, 4.7093830e-03, ..., 6.2149502e-02, 5.1488686e-02, 1.2480129e-02]], dtype=float32)"
            ]
          },
          "metadata": {},
          "execution_count": 16
        }
      ]
    },
    {
      "cell_type": "code",
      "source": [
        "# Evaluating model\n",
        "model.evaluate(X_test,y_test)"
      ],
      "metadata": {
        "colab": {
          "base_uri": "https://localhost:8080/"
        },
        "id": "rV8680CYbKB1",
        "outputId": "3978494a-e49d-4030-b978-d5c11d60ba03"
      },
      "execution_count": null,
      "outputs": [
        {
          "output_type": "stream",
          "name": "stdout",
          "text": [
            "313/313 [==============================] - 0s 1ms/step - loss: 0.5905 - accuracy: 0.7909\n"
          ]
        },
        {
          "output_type": "execute_result",
          "data": {
            "text/plain": [
              "[0.5905346870422363, 0.7908999919891357]"
            ]
          },
          "metadata": {},
          "execution_count": 17
        }
      ]
    },
    {
      "cell_type": "code",
      "source": [
        "predictions = np.argmax(Classification, axis=1)\n",
        "#The np. argmax function simply returns the index of the maximum value in the array\n",
        "print(predictions)"
      ],
      "metadata": {
        "colab": {
          "base_uri": "https://localhost:8080/"
        },
        "id": "ktR8ur43cViZ",
        "outputId": "0fcc56e3-f100-40ec-fa5f-5001f5aa6cce"
      },
      "execution_count": null,
      "outputs": [
        {
          "output_type": "stream",
          "name": "stdout",
          "text": [
            "[9 2 1 ... 0 1 5]\n"
          ]
        }
      ]
    },
    {
      "cell_type": "code",
      "source": [
        "y_pred =model.predict(X_test)\n",
        "y_test_class = np.argmax(y_test,axis=1)\n",
        "y_pred_class = np.argmax(y_pred,axis = 1)"
      ],
      "metadata": {
        "colab": {
          "base_uri": "https://localhost:8080/"
        },
        "id": "t4jH9oSUIaOv",
        "outputId": "863be04a-697b-438a-cbaa-d4d34025bcb2"
      },
      "execution_count": null,
      "outputs": [
        {
          "output_type": "stream",
          "name": "stdout",
          "text": [
            "313/313 [==============================] - 0s 1ms/step\n"
          ]
        }
      ]
    },
    {
      "cell_type": "code",
      "source": [
        "from sklearn.metrics import classification_report,confusion_matrix\n",
        "print(classification_report(y_test_class,y_pred_class))\n",
        "print(confusion_matrix(y_test_class,y_pred_class))"
      ],
      "metadata": {
        "colab": {
          "base_uri": "https://localhost:8080/"
        },
        "id": "ffr_ZNLDIf8Z",
        "outputId": "c9568326-f881-400f-9601-2eebe2fe79df"
      },
      "execution_count": null,
      "outputs": [
        {
          "output_type": "stream",
          "name": "stdout",
          "text": [
            "              precision    recall  f1-score   support\n",
            "\n",
            "           0       0.69      0.79      0.74      1000\n",
            "           1       0.97      0.93      0.95      1000\n",
            "           2       0.66      0.66      0.66      1000\n",
            "           3       0.75      0.89      0.81      1000\n",
            "           4       0.60      0.78      0.68      1000\n",
            "           5       0.94      0.90      0.92      1000\n",
            "           6       0.47      0.23      0.31      1000\n",
            "           7       0.89      0.91      0.90      1000\n",
            "           8       0.96      0.89      0.92      1000\n",
            "           9       0.91      0.94      0.92      1000\n",
            "\n",
            "    accuracy                           0.79     10000\n",
            "   macro avg       0.78      0.79      0.78     10000\n",
            "weighted avg       0.78      0.79      0.78     10000\n",
            "\n",
            "[[788   3  12  89   7   1  91   0   9   0]\n",
            " [  1 926   3  55  10   0   2   0   3   0]\n",
            " [ 17   1 658  21 214   0  83   0   6   0]\n",
            " [ 37  14   9 886  24   0  27   0   3   0]\n",
            " [  2   2 125  54 780   0  34   0   3   0]\n",
            " [  0   0   0   1   1 897   0  62   3  36]\n",
            " [271   0 168  65 249   0 234   0  13   0]\n",
            " [  0   0   0   0   0  31   0 912   0  57]\n",
            " [ 23   8  27  11   5   3  27   5 891   0]\n",
            " [  1   0   0   1   0  20   1  40   0 937]]\n"
          ]
        }
      ]
    },
    {
      "cell_type": "code",
      "source": [
        "model.summary()"
      ],
      "metadata": {
        "colab": {
          "base_uri": "https://localhost:8080/"
        },
        "id": "iNgyjgjMbPhU",
        "outputId": "e30a4c86-c1b9-4c42-d253-3fbce612ad14"
      },
      "execution_count": null,
      "outputs": [
        {
          "output_type": "stream",
          "name": "stdout",
          "text": [
            "Model: \"sequential\"\n",
            "_________________________________________________________________\n",
            " Layer (type)                Output Shape              Param #   \n",
            "=================================================================\n",
            " flatten (Flatten)           (None, 784)               0         \n",
            "                                                                 \n",
            " dense (Dense)               (None, 5)                 3925      \n",
            "                                                                 \n",
            " dense_1 (Dense)             (None, 10)                60        \n",
            "                                                                 \n",
            "=================================================================\n",
            "Total params: 3,985\n",
            "Trainable params: 3,985\n",
            "Non-trainable params: 0\n",
            "_________________________________________________________________\n"
          ]
        }
      ]
    },
    {
      "cell_type": "code",
      "source": [
        "plt.plot(history.history['accuracy'])\n",
        "plt.plot(history.history['val_accuracy'])\n",
        "plt.title('model accuracy')\n",
        "plt.ylabel('accuracy')\n",
        "plt.xlabel('epoch')\n",
        "plt.legend(['train', 'test'], loc='lower right')\n",
        "plt.show()\n",
        "# summarize history for loss\n",
        "plt.plot(history.history['loss'])\n",
        "plt.plot(history.history['val_loss'])\n",
        "plt.title('model loss')\n",
        "plt.ylabel('loss')\n",
        "plt.xlabel('epoch')\n",
        "plt.legend(['train', 'test'], loc='upper right')\n",
        "plt.show()"
      ],
      "metadata": {
        "colab": {
          "base_uri": "https://localhost:8080/",
          "height": 573
        },
        "id": "hPHDJzIpIvJe",
        "outputId": "95b21cb7-0060-4c21-834b-a2d7b81ee464"
      },
      "execution_count": null,
      "outputs": [
        {
          "output_type": "display_data",
          "data": {
            "text/plain": [
              "<Figure size 432x288 with 1 Axes>"
            ],
            "image/png": "[encoded data removed]"
          },
          "metadata": {
            "needs_background": "light"
          }
        },
        {
          "output_type": "display_data",
          "data": {
            "text/plain": [
              "<Figure size 432x288 with 1 Axes>"
            ],
            "image/png": "[encoded data removed]"
          },
          "metadata": {
            "needs_background": "light"
          }
        }
      ]
    },
    {
      "cell_type": "code",
      "source": [
        "#1- from figure 1 as number of epochs increase the accuracy is increaseing\n",
        "#2- from figure 2 as number of epochs increase the loss is decreaseing"
      ],
      "metadata": {
        "id": "4jmUujNPJgkl"
      },
      "execution_count": null,
      "outputs": []
    }
  ]
}