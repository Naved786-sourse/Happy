{
  "nbformat": 4,
  "nbformat_minor": 0,
  "metadata": {
    "colab": {
      "provenance": []
    },
    "kernelspec": {
      "name": "python3",
      "display_name": "Python 3"
    },
    "language_info": {
      "name": "python"
    }
  },
  "cells": [
    {
      "cell_type": "code",
      "execution_count": 1,
      "metadata": {
        "colab": {
          "base_uri": "https://localhost:8080/",
          "height": 423
        },
        "id": "dXu5accrOPZ5",
        "outputId": "b2cdf01a-79fd-450e-ac6b-48251922a18e"
      },
      "outputs": [
        {
          "output_type": "execute_result",
          "data": {
            "text/plain": [
              "       0    1    2    3               4\n",
              "0    5.1  3.5  1.4  0.2     Iris-setosa\n",
              "1    4.9  3.0  1.4  0.2     Iris-setosa\n",
              "2    4.7  3.2  1.3  0.2     Iris-setosa\n",
              "3    4.6  3.1  1.5  0.2     Iris-setosa\n",
              "4    5.0  3.6  1.4  0.2     Iris-setosa\n",
              "..   ...  ...  ...  ...             ...\n",
              "145  6.7  3.0  5.2  2.3  Iris-virginica\n",
              "146  6.3  2.5  5.0  1.9  Iris-virginica\n",
              "147  6.5  3.0  5.2  2.0  Iris-virginica\n",
              "148  6.2  3.4  5.4  2.3  Iris-virginica\n",
              "149  5.9  3.0  5.1  1.8  Iris-virginica\n",
              "\n",
              "[150 rows x 5 columns]"
            ],
            "text/html": [
              "\n",
              "  <div id=\"df-eec94df9-be5d-41b7-ab2b-d22fcc88650b\">\n",
              "    <div class=\"colab-df-container\">\n",
              "      <div>\n",
              "<style scoped>\n",
              "    .dataframe tbody tr th:only-of-type {\n",
              "        vertical-align: middle;\n",
              "    }\n",
              "\n",
              "    .dataframe tbody tr th {\n",
              "        vertical-align: top;\n",
              "    }\n",
              "\n",
              "    .dataframe thead th {\n",
              "        text-align: right;\n",
              "    }\n",
              "</style>\n",
              "<table border=\"1\" class=\"dataframe\">\n",
              "  <thead>\n",
              "    <tr style=\"text-align: right;\">\n",
              "      <th></th>\n",
              "      <th>0</th>\n",
              "      <th>1</th>\n",
              "      <th>2</th>\n",
              "      <th>3</th>\n",
              "      <th>4</th>\n",
              "    </tr>\n",
              "  </thead>\n",
              "  <tbody>\n",
              "    <tr>\n",
              "      <th>0</th>\n",
              "      <td>5.1</td>\n",
              "      <td>3.5</td>\n",
              "      <td>1.4</td>\n",
              "      <td>0.2</td>\n",
              "      <td>Iris-setosa</td>\n",
              "    </tr>\n",
              "    <tr>\n",
              "      <th>1</th>\n",
              "      <td>4.9</td>\n",
              "      <td>3.0</td>\n",
              "      <td>1.4</td>\n",
              "      <td>0.2</td>\n",
              "      <td>Iris-setosa</td>\n",
              "    </tr>\n",
              "    <tr>\n",
              "      <th>2</th>\n",
              "      <td>4.7</td>\n",
              "      <td>3.2</td>\n",
              "      <td>1.3</td>\n",
              "      <td>0.2</td>\n",
              "      <td>Iris-setosa</td>\n",
              "    </tr>\n",
              "    <tr>\n",
              "      <th>3</th>\n",
              "      <td>4.6</td>\n",
              "      <td>3.1</td>\n",
              "      <td>1.5</td>\n",
              "      <td>0.2</td>\n",
              "      <td>Iris-setosa</td>\n",
              "    </tr>\n",
              "    <tr>\n",
              "      <th>4</th>\n",
              "      <td>5.0</td>\n",
              "      <td>3.6</td>\n",
              "      <td>1.4</td>\n",
              "      <td>0.2</td>\n",
              "      <td>Iris-setosa</td>\n",
              "    </tr>\n",
              "    <tr>\n",
              "      <th>...</th>\n",
              "      <td>...</td>\n",
              "      <td>...</td>\n",
              "      <td>...</td>\n",
              "      <td>...</td>\n",
              "      <td>...</td>\n",
              "    </tr>\n",
              "    <tr>\n",
              "      <th>145</th>\n",
              "      <td>6.7</td>\n",
              "      <td>3.0</td>\n",
              "      <td>5.2</td>\n",
              "      <td>2.3</td>\n",
              "      <td>Iris-virginica</td>\n",
              "    </tr>\n",
              "    <tr>\n",
              "      <th>146</th>\n",
              "      <td>6.3</td>\n",
              "      <td>2.5</td>\n",
              "      <td>5.0</td>\n",
              "      <td>1.9</td>\n",
              "      <td>Iris-virginica</td>\n",
              "    </tr>\n",
              "    <tr>\n",
              "      <th>147</th>\n",
              "      <td>6.5</td>\n",
              "      <td>3.0</td>\n",
              "      <td>5.2</td>\n",
              "      <td>2.0</td>\n",
              "      <td>Iris-virginica</td>\n",
              "    </tr>\n",
              "    <tr>\n",
              "      <th>148</th>\n",
              "      <td>6.2</td>\n",
              "      <td>3.4</td>\n",
              "      <td>5.4</td>\n",
              "      <td>2.3</td>\n",
              "      <td>Iris-virginica</td>\n",
              "    </tr>\n",
              "    <tr>\n",
              "      <th>149</th>\n",
              "      <td>5.9</td>\n",
              "      <td>3.0</td>\n",
              "      <td>5.1</td>\n",
              "      <td>1.8</td>\n",
              "      <td>Iris-virginica</td>\n",
              "    </tr>\n",
              "  </tbody>\n",
              "</table>\n",
              "<p>150 rows × 5 columns</p>\n",
              "</div>\n",
              "      <button class=\"colab-df-convert\" onclick=\"convertToInteractive('df-eec94df9-be5d-41b7-ab2b-d22fcc88650b')\"\n",
              "              title=\"Convert this dataframe to an interactive table.\"\n",
              "              style=\"display:none;\">\n",
              "        \n",
              "  <svg xmlns=\"http://www.w3.org/2000/svg\" height=\"24px\"viewBox=\"0 0 24 24\"\n",
              "       width=\"24px\">\n",
              "    <path d=\"M0 0h24v24H0V0z\" fill=\"none\"/>\n",
              "    <path d=\"M18.56 5.44l.94 2.06.94-2.06 2.06-.94-2.06-.94-.94-2.06-.94 2.06-2.06.94zm-11 1L8.5 8.5l.94-2.06 2.06-.94-2.06-.94L8.5 2.5l-.94 2.06-2.06.94zm10 10l.94 2.06.94-2.06 2.06-.94-2.06-.94-.94-2.06-.94 2.06-2.06.94z\"/><path d=\"M17.41 7.96l-1.37-1.37c-.4-.4-.92-.59-1.43-.59-.52 0-1.04.2-1.43.59L10.3 9.45l-7.72 7.72c-.78.78-.78 2.05 0 2.83L4 21.41c.39.39.9.59 1.41.59.51 0 1.02-.2 1.41-.59l7.78-7.78 2.81-2.81c.8-.78.8-2.07 0-2.86zM5.41 20L4 18.59l7.72-7.72 1.47 1.35L5.41 20z\"/>\n",
              "  </svg>\n",
              "      </button>\n",
              "      \n",
              "  <style>\n",
              "    .colab-df-container {\n",
              "      display:flex;\n",
              "      flex-wrap:wrap;\n",
              "      gap: 12px;\n",
              "    }\n",
              "\n",
              "    .colab-df-convert {\n",
              "      background-color: #E8F0FE;\n",
              "      border: none;\n",
              "      border-radius: 50%;\n",
              "      cursor: pointer;\n",
              "      display: none;\n",
              "      fill: #1967D2;\n",
              "      height: 32px;\n",
              "      padding: 0 0 0 0;\n",
              "      width: 32px;\n",
              "    }\n",
              "\n",
              "    .colab-df-convert:hover {\n",
              "      background-color: #E2EBFA;\n",
              "      box-shadow: 0px 1px 2px rgba(60, 64, 67, 0.3), 0px 1px 3px 1px rgba(60, 64, 67, 0.15);\n",
              "      fill: #174EA6;\n",
              "    }\n",
              "\n",
              "    [theme=dark] .colab-df-convert {\n",
              "      background-color: #3B4455;\n",
              "      fill: #D2E3FC;\n",
              "    }\n",
              "\n",
              "    [theme=dark] .colab-df-convert:hover {\n",
              "      background-color: #434B5C;\n",
              "      box-shadow: 0px 1px 3px 1px rgba(0, 0, 0, 0.15);\n",
              "      filter: drop-shadow(0px 1px 2px rgba(0, 0, 0, 0.3));\n",
              "      fill: #FFFFFF;\n",
              "    }\n",
              "  </style>\n",
              "\n",
              "      <script>\n",
              "        const buttonEl =\n",
              "          document.querySelector('#df-eec94df9-be5d-41b7-ab2b-d22fcc88650b button.colab-df-convert');\n",
              "        buttonEl.style.display =\n",
              "          google.colab.kernel.accessAllowed ? 'block' : 'none';\n",
              "\n",
              "        async function convertToInteractive(key) {\n",
              "          const element = document.querySelector('#df-eec94df9-be5d-41b7-ab2b-d22fcc88650b');\n",
              "          const dataTable =\n",
              "            await google.colab.kernel.invokeFunction('convertToInteractive',\n",
              "                                                     [key], {});\n",
              "          if (!dataTable) return;\n",
              "\n",
              "          const docLinkHtml = 'Like what you see? Visit the ' +\n",
              "            '<a target=\"_blank\" href=https://colab.research.google.com/notebooks/data_table.ipynb>data table notebook</a>'\n",
              "            + ' to learn more about interactive tables.';\n",
              "          element.innerHTML = '';\n",
              "          dataTable['output_type'] = 'display_data';\n",
              "          await google.colab.output.renderOutput(dataTable, element);\n",
              "          const docLink = document.createElement('div');\n",
              "          docLink.innerHTML = docLinkHtml;\n",
              "          element.appendChild(docLink);\n",
              "        }\n",
              "      </script>\n",
              "    </div>\n",
              "  </div>\n",
              "  "
            ]
          },
          "metadata": {},
          "execution_count": 1
        }
      ],
      "source": [
        "# using iris data set \n",
        "import pandas as pd\n",
        "dataset= pd.read_csv('https://archive.ics.uci.edu/ml/machine-learning-databases/iris/iris.data', header=None)\n",
        "dataset"
      ]
    },
    {
      "cell_type": "code",
      "source": [
        "X= dataset.iloc[:,0:4].values\n",
        "Y = dataset.iloc[:,4].values"
      ],
      "metadata": {
        "id": "uIgfq1w6OzwK"
      },
      "execution_count": 2,
      "outputs": []
    },
    {
      "cell_type": "code",
      "source": [
        "#to convert all numerical values to numbers \n",
        "from sklearn.preprocessing import LabelEncoder\n",
        "encoder = LabelEncoder()\n",
        "y1 = encoder.fit_transform(Y) \n",
        "Y = pd.get_dummies(y1).values # to convert it into matrix "
      ],
      "metadata": {
        "id": "yGFTJjlVO85X"
      },
      "execution_count": 3,
      "outputs": []
    },
    {
      "cell_type": "code",
      "source": [
        "# to split the mode \n",
        "from sklearn.model_selection import train_test_split\n",
        "x_train,x_test,y_train,y_test = train_test_split(X,Y,test_size=0.2,random_state=0)"
      ],
      "metadata": {
        "id": "vMT1I24hPAt5"
      },
      "execution_count": 4,
      "outputs": []
    },
    {
      "cell_type": "code",
      "source": [
        "print(x_train.shape , x_test.shape)"
      ],
      "metadata": {
        "colab": {
          "base_uri": "https://localhost:8080/"
        },
        "id": "BqGp_QJmPFRf",
        "outputId": "626024bd-8470-4a76-85cf-fccccb1e3276"
      },
      "execution_count": 5,
      "outputs": [
        {
          "output_type": "stream",
          "name": "stdout",
          "text": [
            "(120, 4) (30, 4)\n"
          ]
        }
      ]
    },
    {
      "cell_type": "code",
      "source": [
        "print(y_train.shape , y_test.shape)"
      ],
      "metadata": {
        "colab": {
          "base_uri": "https://localhost:8080/"
        },
        "id": "Sko2_Nu-PKL3",
        "outputId": "1fa0d9fe-e918-4742-9085-fbda2e4aebe7"
      },
      "execution_count": 6,
      "outputs": [
        {
          "output_type": "stream",
          "name": "stdout",
          "text": [
            "(120, 3) (30, 3)\n"
          ]
        }
      ]
    },
    {
      "cell_type": "code",
      "source": [
        "import tensorflow as tf\n",
        "model = tf.keras.Sequential([\n",
        "    tf.keras.layers.Dense(10, activation='relu'),\n",
        "    tf.keras.layers.Dense(10, activation='sigmoid'),\n",
        "    tf.keras.layers.Dense(3, activation='softmax')\n",
        "  ])\n",
        "model"
      ],
      "metadata": {
        "colab": {
          "base_uri": "https://localhost:8080/"
        },
        "id": "kNlcxC1khLi_",
        "outputId": "9297cbc4-c327-4e9f-8f8f-7190098a998d"
      },
      "execution_count": 10,
      "outputs": [
        {
          "output_type": "execute_result",
          "data": {
            "text/plain": [
              "<keras.engine.sequential.Sequential at 0x7f63f6dfdfa0>"
            ]
          },
          "metadata": {},
          "execution_count": 10
        }
      ]
    },
    {
      "cell_type": "code",
      "source": [
        "model.compile(optimizer='rmsprop',\n",
        "              loss='categorical_crossentropy',\n",
        "              metrics=['accuracy'])"
      ],
      "metadata": {
        "id": "3P06haTuhcxm"
      },
      "execution_count": 11,
      "outputs": []
    },
    {
      "cell_type": "code",
      "source": [
        "model.fit(x_train, y_train, batch_size=50, epochs=85)"
      ],
      "metadata": {
        "colab": {
          "base_uri": "https://localhost:8080/"
        },
        "id": "YSR7XtbIhjsh",
        "outputId": "3ad508bc-c886-45ea-c3cd-4f7494288524"
      },
      "execution_count": 13,
      "outputs": [
        {
          "output_type": "stream",
          "name": "stdout",
          "text": [
            "Epoch 1/85\n",
            "3/3 [==============================] - 0s 4ms/step - loss: 0.5338 - accuracy: 0.9583\n",
            "Epoch 2/85\n",
            "3/3 [==============================] - 0s 6ms/step - loss: 0.5290 - accuracy: 0.9667\n",
            "Epoch 3/85\n",
            "3/3 [==============================] - 0s 4ms/step - loss: 0.5252 - accuracy: 0.9750\n",
            "Epoch 4/85\n",
            "3/3 [==============================] - 0s 4ms/step - loss: 0.5204 - accuracy: 0.9583\n",
            "Epoch 5/85\n",
            "3/3 [==============================] - 0s 4ms/step - loss: 0.5167 - accuracy: 0.9667\n",
            "Epoch 6/85\n",
            "3/3 [==============================] - 0s 4ms/step - loss: 0.5123 - accuracy: 0.9583\n",
            "Epoch 7/85\n",
            "3/3 [==============================] - 0s 3ms/step - loss: 0.5085 - accuracy: 0.9583\n",
            "Epoch 8/85\n",
            "3/3 [==============================] - 0s 5ms/step - loss: 0.5041 - accuracy: 0.9583\n",
            "Epoch 9/85\n",
            "3/3 [==============================] - 0s 3ms/step - loss: 0.5007 - accuracy: 0.9583\n",
            "Epoch 10/85\n",
            "3/3 [==============================] - 0s 4ms/step - loss: 0.4968 - accuracy: 0.9583\n",
            "Epoch 11/85\n",
            "3/3 [==============================] - 0s 4ms/step - loss: 0.4943 - accuracy: 0.9750\n",
            "Epoch 12/85\n",
            "3/3 [==============================] - 0s 5ms/step - loss: 0.4892 - accuracy: 0.9750\n",
            "Epoch 13/85\n",
            "3/3 [==============================] - 0s 4ms/step - loss: 0.4862 - accuracy: 0.9667\n",
            "Epoch 14/85\n",
            "3/3 [==============================] - 0s 4ms/step - loss: 0.4817 - accuracy: 0.9583\n",
            "Epoch 15/85\n",
            "3/3 [==============================] - 0s 4ms/step - loss: 0.4781 - accuracy: 0.9583\n",
            "Epoch 16/85\n",
            "3/3 [==============================] - 0s 4ms/step - loss: 0.4743 - accuracy: 0.9583\n",
            "Epoch 17/85\n",
            "3/3 [==============================] - 0s 5ms/step - loss: 0.4706 - accuracy: 0.9750\n",
            "Epoch 18/85\n",
            "3/3 [==============================] - 0s 4ms/step - loss: 0.4670 - accuracy: 0.9750\n",
            "Epoch 19/85\n",
            "3/3 [==============================] - 0s 4ms/step - loss: 0.4635 - accuracy: 0.9583\n",
            "Epoch 20/85\n",
            "3/3 [==============================] - 0s 4ms/step - loss: 0.4599 - accuracy: 0.9667\n",
            "Epoch 21/85\n",
            "3/3 [==============================] - 0s 5ms/step - loss: 0.4565 - accuracy: 0.9750\n",
            "Epoch 22/85\n",
            "3/3 [==============================] - 0s 4ms/step - loss: 0.4531 - accuracy: 0.9583\n",
            "Epoch 23/85\n",
            "3/3 [==============================] - 0s 4ms/step - loss: 0.4504 - accuracy: 0.9750\n",
            "Epoch 24/85\n",
            "3/3 [==============================] - 0s 4ms/step - loss: 0.4467 - accuracy: 0.9583\n",
            "Epoch 25/85\n",
            "3/3 [==============================] - 0s 4ms/step - loss: 0.4437 - accuracy: 0.9583\n",
            "Epoch 26/85\n",
            "3/3 [==============================] - 0s 5ms/step - loss: 0.4402 - accuracy: 0.9583\n",
            "Epoch 27/85\n",
            "3/3 [==============================] - 0s 4ms/step - loss: 0.4368 - accuracy: 0.9583\n",
            "Epoch 28/85\n",
            "3/3 [==============================] - 0s 4ms/step - loss: 0.4338 - accuracy: 0.9583\n",
            "Epoch 29/85\n",
            "3/3 [==============================] - 0s 4ms/step - loss: 0.4303 - accuracy: 0.9583\n",
            "Epoch 30/85\n",
            "3/3 [==============================] - 0s 4ms/step - loss: 0.4276 - accuracy: 0.9583\n",
            "Epoch 31/85\n",
            "3/3 [==============================] - 0s 4ms/step - loss: 0.4238 - accuracy: 0.9667\n",
            "Epoch 32/85\n",
            "3/3 [==============================] - 0s 5ms/step - loss: 0.4221 - accuracy: 0.9583\n",
            "Epoch 33/85\n",
            "3/3 [==============================] - 0s 5ms/step - loss: 0.4176 - accuracy: 0.9583\n",
            "Epoch 34/85\n",
            "3/3 [==============================] - 0s 6ms/step - loss: 0.4146 - accuracy: 0.9667\n",
            "Epoch 35/85\n",
            "3/3 [==============================] - 0s 4ms/step - loss: 0.4116 - accuracy: 0.9667\n",
            "Epoch 36/85\n",
            "3/3 [==============================] - 0s 4ms/step - loss: 0.4092 - accuracy: 0.9750\n",
            "Epoch 37/85\n",
            "3/3 [==============================] - 0s 4ms/step - loss: 0.4073 - accuracy: 0.9750\n",
            "Epoch 38/85\n",
            "3/3 [==============================] - 0s 4ms/step - loss: 0.4039 - accuracy: 0.9583\n",
            "Epoch 39/85\n",
            "3/3 [==============================] - 0s 5ms/step - loss: 0.4009 - accuracy: 0.9667\n",
            "Epoch 40/85\n",
            "3/3 [==============================] - 0s 4ms/step - loss: 0.3979 - accuracy: 0.9750\n",
            "Epoch 41/85\n",
            "3/3 [==============================] - 0s 4ms/step - loss: 0.3945 - accuracy: 0.9583\n",
            "Epoch 42/85\n",
            "3/3 [==============================] - 0s 4ms/step - loss: 0.3918 - accuracy: 0.9667\n",
            "Epoch 43/85\n",
            "3/3 [==============================] - 0s 4ms/step - loss: 0.3888 - accuracy: 0.9583\n",
            "Epoch 44/85\n",
            "3/3 [==============================] - 0s 4ms/step - loss: 0.3868 - accuracy: 0.9583\n",
            "Epoch 45/85\n",
            "3/3 [==============================] - 0s 4ms/step - loss: 0.3853 - accuracy: 0.9667\n",
            "Epoch 46/85\n",
            "3/3 [==============================] - 0s 4ms/step - loss: 0.3815 - accuracy: 0.9583\n",
            "Epoch 47/85\n",
            "3/3 [==============================] - 0s 4ms/step - loss: 0.3783 - accuracy: 0.9583\n",
            "Epoch 48/85\n",
            "3/3 [==============================] - 0s 5ms/step - loss: 0.3761 - accuracy: 0.9667\n",
            "Epoch 49/85\n",
            "3/3 [==============================] - 0s 4ms/step - loss: 0.3737 - accuracy: 0.9583\n",
            "Epoch 50/85\n",
            "3/3 [==============================] - 0s 4ms/step - loss: 0.3709 - accuracy: 0.9583\n",
            "Epoch 51/85\n",
            "3/3 [==============================] - 0s 4ms/step - loss: 0.3685 - accuracy: 0.9583\n",
            "Epoch 52/85\n",
            "3/3 [==============================] - 0s 4ms/step - loss: 0.3658 - accuracy: 0.9667\n",
            "Epoch 53/85\n",
            "3/3 [==============================] - 0s 4ms/step - loss: 0.3637 - accuracy: 0.9583\n",
            "Epoch 54/85\n",
            "3/3 [==============================] - 0s 5ms/step - loss: 0.3619 - accuracy: 0.9750\n",
            "Epoch 55/85\n",
            "3/3 [==============================] - 0s 8ms/step - loss: 0.3585 - accuracy: 0.9667\n",
            "Epoch 56/85\n",
            "3/3 [==============================] - 0s 7ms/step - loss: 0.3563 - accuracy: 0.9583\n",
            "Epoch 57/85\n",
            "3/3 [==============================] - 0s 7ms/step - loss: 0.3538 - accuracy: 0.9667\n",
            "Epoch 58/85\n",
            "3/3 [==============================] - 0s 7ms/step - loss: 0.3544 - accuracy: 0.9750\n",
            "Epoch 59/85\n",
            "3/3 [==============================] - 0s 6ms/step - loss: 0.3505 - accuracy: 0.9583\n",
            "Epoch 60/85\n",
            "3/3 [==============================] - 0s 6ms/step - loss: 0.3491 - accuracy: 0.9583\n",
            "Epoch 61/85\n",
            "3/3 [==============================] - 0s 6ms/step - loss: 0.3466 - accuracy: 0.9750\n",
            "Epoch 62/85\n",
            "3/3 [==============================] - 0s 5ms/step - loss: 0.3441 - accuracy: 0.9750\n",
            "Epoch 63/85\n",
            "3/3 [==============================] - 0s 9ms/step - loss: 0.3419 - accuracy: 0.9667\n",
            "Epoch 64/85\n",
            "3/3 [==============================] - 0s 6ms/step - loss: 0.3406 - accuracy: 0.9667\n",
            "Epoch 65/85\n",
            "3/3 [==============================] - 0s 5ms/step - loss: 0.3385 - accuracy: 0.9667\n",
            "Epoch 66/85\n",
            "3/3 [==============================] - 0s 6ms/step - loss: 0.3365 - accuracy: 0.9583\n",
            "Epoch 67/85\n",
            "3/3 [==============================] - 0s 6ms/step - loss: 0.3341 - accuracy: 0.9667\n",
            "Epoch 68/85\n",
            "3/3 [==============================] - 0s 6ms/step - loss: 0.3322 - accuracy: 0.9583\n",
            "Epoch 69/85\n",
            "3/3 [==============================] - 0s 5ms/step - loss: 0.3309 - accuracy: 0.9583\n",
            "Epoch 70/85\n",
            "3/3 [==============================] - 0s 6ms/step - loss: 0.3280 - accuracy: 0.9583\n",
            "Epoch 71/85\n",
            "3/3 [==============================] - 0s 6ms/step - loss: 0.3260 - accuracy: 0.9667\n",
            "Epoch 72/85\n",
            "3/3 [==============================] - 0s 6ms/step - loss: 0.3248 - accuracy: 0.9583\n",
            "Epoch 73/85\n",
            "3/3 [==============================] - 0s 6ms/step - loss: 0.3215 - accuracy: 0.9583\n",
            "Epoch 74/85\n",
            "3/3 [==============================] - 0s 6ms/step - loss: 0.3205 - accuracy: 0.9667\n",
            "Epoch 75/85\n",
            "3/3 [==============================] - 0s 6ms/step - loss: 0.3173 - accuracy: 0.9667\n",
            "Epoch 76/85\n",
            "3/3 [==============================] - 0s 7ms/step - loss: 0.3151 - accuracy: 0.9667\n",
            "Epoch 77/85\n",
            "3/3 [==============================] - 0s 6ms/step - loss: 0.3172 - accuracy: 0.9667\n",
            "Epoch 78/85\n",
            "3/3 [==============================] - 0s 7ms/step - loss: 0.3114 - accuracy: 0.9583\n",
            "Epoch 79/85\n",
            "3/3 [==============================] - 0s 6ms/step - loss: 0.3091 - accuracy: 0.9583\n",
            "Epoch 80/85\n",
            "3/3 [==============================] - 0s 6ms/step - loss: 0.3072 - accuracy: 0.9667\n",
            "Epoch 81/85\n",
            "3/3 [==============================] - 0s 7ms/step - loss: 0.3053 - accuracy: 0.9750\n",
            "Epoch 82/85\n",
            "3/3 [==============================] - 0s 8ms/step - loss: 0.3036 - accuracy: 0.9750\n",
            "Epoch 83/85\n",
            "3/3 [==============================] - 0s 6ms/step - loss: 0.3020 - accuracy: 0.9583\n",
            "Epoch 84/85\n",
            "3/3 [==============================] - 0s 6ms/step - loss: 0.2992 - accuracy: 0.9667\n",
            "Epoch 85/85\n",
            "3/3 [==============================] - 0s 7ms/step - loss: 0.2973 - accuracy: 0.9667\n"
          ]
        },
        {
          "output_type": "execute_result",
          "data": {
            "text/plain": [
              "<keras.callbacks.History at 0x7f63f0c10fd0>"
            ]
          },
          "metadata": {},
          "execution_count": 13
        }
      ]
    },
    {
      "cell_type": "code",
      "source": [
        "print(x_train)"
      ],
      "metadata": {
        "colab": {
          "base_uri": "https://localhost:8080/"
        },
        "id": "1gBUmBK2hyC-",
        "outputId": "2ca5e63e-bbaa-4e7b-b6a8-cad88a5ee591"
      },
      "execution_count": 14,
      "outputs": [
        {
          "output_type": "stream",
          "name": "stdout",
          "text": [
            "[[6.4 3.1 5.5 1.8]\n",
            " [5.4 3.  4.5 1.5]\n",
            " [5.2 3.5 1.5 0.2]\n",
            " [6.1 3.  4.9 1.8]\n",
            " [6.4 2.8 5.6 2.2]\n",
            " [5.2 2.7 3.9 1.4]\n",
            " [5.7 3.8 1.7 0.3]\n",
            " [6.  2.7 5.1 1.6]\n",
            " [5.9 3.  4.2 1.5]\n",
            " [5.8 2.6 4.  1.2]\n",
            " [6.8 3.  5.5 2.1]\n",
            " [4.7 3.2 1.3 0.2]\n",
            " [6.9 3.1 5.1 2.3]\n",
            " [5.  3.5 1.6 0.6]\n",
            " [5.4 3.7 1.5 0.2]\n",
            " [5.  2.  3.5 1. ]\n",
            " [6.5 3.  5.5 1.8]\n",
            " [6.7 3.3 5.7 2.5]\n",
            " [6.  2.2 5.  1.5]\n",
            " [6.7 2.5 5.8 1.8]\n",
            " [5.6 2.5 3.9 1.1]\n",
            " [7.7 3.  6.1 2.3]\n",
            " [6.3 3.3 4.7 1.6]\n",
            " [5.5 2.4 3.8 1.1]\n",
            " [6.3 2.7 4.9 1.8]\n",
            " [6.3 2.8 5.1 1.5]\n",
            " [4.9 2.5 4.5 1.7]\n",
            " [6.3 2.5 5.  1.9]\n",
            " [7.  3.2 4.7 1.4]\n",
            " [6.5 3.  5.2 2. ]\n",
            " [6.  3.4 4.5 1.6]\n",
            " [4.8 3.1 1.6 0.2]\n",
            " [5.8 2.7 5.1 1.9]\n",
            " [5.6 2.7 4.2 1.3]\n",
            " [5.6 2.9 3.6 1.3]\n",
            " [5.5 2.5 4.  1.3]\n",
            " [6.1 3.  4.6 1.4]\n",
            " [7.2 3.2 6.  1.8]\n",
            " [5.3 3.7 1.5 0.2]\n",
            " [4.3 3.  1.1 0.1]\n",
            " [6.4 2.7 5.3 1.9]\n",
            " [5.7 3.  4.2 1.2]\n",
            " [5.4 3.4 1.7 0.2]\n",
            " [5.7 4.4 1.5 0.4]\n",
            " [6.9 3.1 4.9 1.5]\n",
            " [4.6 3.1 1.5 0.2]\n",
            " [5.9 3.  5.1 1.8]\n",
            " [5.1 2.5 3.  1.1]\n",
            " [4.6 3.4 1.4 0.3]\n",
            " [6.2 2.2 4.5 1.5]\n",
            " [7.2 3.6 6.1 2.5]\n",
            " [5.7 2.9 4.2 1.3]\n",
            " [4.8 3.  1.4 0.1]\n",
            " [7.1 3.  5.9 2.1]\n",
            " [6.9 3.2 5.7 2.3]\n",
            " [6.5 3.  5.8 2.2]\n",
            " [6.4 2.8 5.6 2.1]\n",
            " [5.1 3.8 1.6 0.2]\n",
            " [4.8 3.4 1.6 0.2]\n",
            " [6.5 3.2 5.1 2. ]\n",
            " [6.7 3.3 5.7 2.1]\n",
            " [4.5 2.3 1.3 0.3]\n",
            " [6.2 3.4 5.4 2.3]\n",
            " [4.9 3.  1.4 0.2]\n",
            " [5.7 2.5 5.  2. ]\n",
            " [6.9 3.1 5.4 2.1]\n",
            " [4.4 3.2 1.3 0.2]\n",
            " [5.  3.6 1.4 0.2]\n",
            " [7.2 3.  5.8 1.6]\n",
            " [5.1 3.5 1.4 0.3]\n",
            " [4.4 3.  1.3 0.2]\n",
            " [5.4 3.9 1.7 0.4]\n",
            " [5.5 2.3 4.  1.3]\n",
            " [6.8 3.2 5.9 2.3]\n",
            " [7.6 3.  6.6 2.1]\n",
            " [5.1 3.5 1.4 0.2]\n",
            " [4.9 3.1 1.5 0.1]\n",
            " [5.2 3.4 1.4 0.2]\n",
            " [5.7 2.8 4.5 1.3]\n",
            " [6.6 3.  4.4 1.4]\n",
            " [5.  3.2 1.2 0.2]\n",
            " [5.1 3.3 1.7 0.5]\n",
            " [6.4 2.9 4.3 1.3]\n",
            " [5.4 3.4 1.5 0.4]\n",
            " [7.7 2.6 6.9 2.3]\n",
            " [4.9 2.4 3.3 1. ]\n",
            " [7.9 3.8 6.4 2. ]\n",
            " [6.7 3.1 4.4 1.4]\n",
            " [5.2 4.1 1.5 0.1]\n",
            " [6.  3.  4.8 1.8]\n",
            " [5.8 4.  1.2 0.2]\n",
            " [7.7 2.8 6.7 2. ]\n",
            " [5.1 3.8 1.5 0.3]\n",
            " [4.7 3.2 1.6 0.2]\n",
            " [7.4 2.8 6.1 1.9]\n",
            " [5.  3.3 1.4 0.2]\n",
            " [6.3 3.4 5.6 2.4]\n",
            " [5.7 2.8 4.1 1.3]\n",
            " [5.8 2.7 3.9 1.2]\n",
            " [5.7 2.6 3.5 1. ]\n",
            " [6.4 3.2 5.3 2.3]\n",
            " [6.7 3.  5.2 2.3]\n",
            " [6.3 2.5 4.9 1.5]\n",
            " [6.7 3.  5.  1.7]\n",
            " [5.  3.  1.6 0.2]\n",
            " [5.5 2.4 3.7 1. ]\n",
            " [6.7 3.1 5.6 2.4]\n",
            " [5.8 2.7 5.1 1.9]\n",
            " [5.1 3.4 1.5 0.2]\n",
            " [6.6 2.9 4.6 1.3]\n",
            " [5.6 3.  4.1 1.3]\n",
            " [5.9 3.2 4.8 1.8]\n",
            " [6.3 2.3 4.4 1.3]\n",
            " [5.5 3.5 1.3 0.2]\n",
            " [5.1 3.7 1.5 0.4]\n",
            " [4.9 3.1 1.5 0.1]\n",
            " [6.3 2.9 5.6 1.8]\n",
            " [5.8 2.7 4.1 1. ]\n",
            " [7.7 3.8 6.7 2.2]\n",
            " [4.6 3.2 1.4 0.2]]\n"
          ]
        }
      ]
    },
    {
      "cell_type": "code",
      "source": [
        "import numpy as np\n",
        "y_pred =model.predict(x_test)\n",
        "y_test_class = np.argmax(y_test,axis=1)\n",
        "y_pred_class = np.argmax(y_pred,axis = 1)"
      ],
      "metadata": {
        "colab": {
          "base_uri": "https://localhost:8080/"
        },
        "id": "BOp-tmTih37j",
        "outputId": "1a3bd0b4-ea74-4fa0-ed95-a46c1da49539"
      },
      "execution_count": 15,
      "outputs": [
        {
          "output_type": "stream",
          "name": "stdout",
          "text": [
            "1/1 [==============================] - 0s 194ms/step\n"
          ]
        }
      ]
    },
    {
      "cell_type": "code",
      "source": [
        "from sklearn.metrics import classification_report,confusion_matrix\n",
        "print(classification_report(y_test_class,y_pred_class))\n",
        "print(confusion_matrix(y_test_class,y_pred_class))"
      ],
      "metadata": {
        "colab": {
          "base_uri": "https://localhost:8080/"
        },
        "id": "i8IW0yBvRQpn",
        "outputId": "a71396ff-51f2-4765-910e-d0ef56c19333"
      },
      "execution_count": 16,
      "outputs": [
        {
          "output_type": "stream",
          "name": "stdout",
          "text": [
            "              precision    recall  f1-score   support\n",
            "\n",
            "           0       1.00      1.00      1.00        11\n",
            "           1       1.00      1.00      1.00        13\n",
            "           2       1.00      1.00      1.00         6\n",
            "\n",
            "    accuracy                           1.00        30\n",
            "   macro avg       1.00      1.00      1.00        30\n",
            "weighted avg       1.00      1.00      1.00        30\n",
            "\n",
            "[[11  0  0]\n",
            " [ 0 13  0]\n",
            " [ 0  0  6]]\n"
          ]
        }
      ]
    },
    {
      "cell_type": "code",
      "source": [
        "history = model.fit(x_train, y_train, validation_split=0.33, epochs=150, batch_size=10, verbose=0)"
      ],
      "metadata": {
        "id": "ks_0ghSNRZdK"
      },
      "execution_count": 17,
      "outputs": []
    },
    {
      "cell_type": "code",
      "source": [
        "print(history.history.keys())"
      ],
      "metadata": {
        "colab": {
          "base_uri": "https://localhost:8080/"
        },
        "id": "lH9KGaB5Reu6",
        "outputId": "c4fcd9d6-2684-40ee-c5d2-69f1338783d4"
      },
      "execution_count": 18,
      "outputs": [
        {
          "output_type": "stream",
          "name": "stdout",
          "text": [
            "dict_keys(['loss', 'accuracy', 'val_loss', 'val_accuracy'])\n"
          ]
        }
      ]
    },
    {
      "cell_type": "code",
      "source": [
        "import matplotlib.pyplot as plt\n",
        "\n",
        "plt.plot(history.history['accuracy'])\n",
        "plt.plot(history.history['val_accuracy'])\n",
        "plt.title('model accuracy')\n",
        "plt.ylabel('accuracy')\n",
        "plt.xlabel('epoch')\n",
        "plt.legend(['train', 'test'], loc='upper right')\n",
        "plt.show()\n",
        "# summarize history for loss\n",
        "plt.plot(history.history['loss'])\n",
        "plt.plot(history.history['val_loss'])\n",
        "plt.title('model loss')\n",
        "plt.ylabel('loss')\n",
        "plt.xlabel('epoch')\n",
        "plt.legend(['train', 'test'], loc='upper left')\n",
        "plt.show()"
      ],
      "metadata": {
        "colab": {
          "base_uri": "https://localhost:8080/",
          "height": 573
        },
        "id": "7nCnj_XwRhwx",
        "outputId": "2758e385-2338-4029-a3e8-260ca7fad523"
      },
      "execution_count": 19,
      "outputs": [
        {
          "output_type": "display_data",
          "data": {
            "text/plain": [
              "<Figure size 432x288 with 1 Axes>"
            ],
            "image/png": "[encoded data removed]"
          },
          "metadata": {
            "needs_background": "light"
          }
        },
        {
          "output_type": "display_data",
          "data": {
            "text/plain": [
              "<Figure size 432x288 with 1 Axes>"
            ],
            "image/png": "[encoded data removed]"
          },
          "metadata": {
            "needs_background": "light"
          }
        }
      ]
    }
  ]
}